{
 "cells": [
  {
   "cell_type": "markdown",
   "metadata": {},
   "source": [
    "# Point Cloud Binary Classification with PyTorch"
   ]
  },
  {
   "cell_type": "markdown",
   "metadata": {},
   "source": [
    "Make sure you are using the `dl4cv` conda environment."
   ]
  },
  {
   "cell_type": "markdown",
   "metadata": {},
   "source": [
    "## Dataset loading and visualization"
   ]
  },
  {
   "cell_type": "markdown",
   "metadata": {},
   "source": [
    "The input X contain 100 2D points, and y are their corresponding labels (0 or 1). The goal is to train a model that can classify every point to its correct label.\n"
   ]
  },
  {
   "cell_type": "code",
   "execution_count": 1,
   "metadata": {},
   "outputs": [
    {
     "data": {
      "image/png": "[encoded data removed]",
      "text/plain": [
       "<Figure size 640x480 with 1 Axes>"
      ]
     },
     "metadata": {},
     "output_type": "display_data"
    },
    {
     "data": {
      "text/plain": [
       "<Figure size 640x480 with 0 Axes>"
      ]
     },
     "metadata": {},
     "output_type": "display_data"
    }
   ],
   "source": [
    "%matplotlib inline\n",
    "import matplotlib.pyplot as plt\n",
    "import numpy as np\n",
    "import torch\n",
    "import torch.nn as nn\n",
    "import torch.nn.functional as F\n",
    "import torch.optim as optim\n",
    "from torch.utils.data import Dataset\n",
    "from torch.utils.data import DataLoader\n",
    "from torch.optim import Adam\n",
    "\n",
    "dataset = np.load('data/2d_pcl_dataset.npz')\n",
    "X, y = dataset['X'], dataset['y']\n",
    "\n",
    "X0 = X[y==0] # 50 2D points have label 0\n",
    "X1 = X[y==1] # 50 2D points have label 1\n",
    "\n",
    "def plot(X0, X1, fit_param=None):\n",
    "    plt.scatter(X0[:,0], X0[:,1], color='red', label=0)\n",
    "    plt.scatter(X1[:,0], X1[:,1], color='blue', label=1)\n",
    "    \n",
    "    plt.xlim([-0.55, 0.55])\n",
    "    plt.ylim([-0.35, 0.25])\n",
    "    plt.legend()\n",
    "    plt.show()\n",
    "    plt.clf()\n",
    "\n",
    "plot(X0, X1)"
   ]
  },
  {
   "cell_type": "markdown",
   "metadata": {},
   "source": [
    "## Logistic Regression for the point cloud classification task\n"
   ]
  },
  {
   "cell_type": "markdown",
   "metadata": {},
   "source": [
    "Starting by filling in the `Simple2DDataset` class below. First, in the class constructore `__init__`, you will need to read the right `2d_pcl_dataset.npz` from disk.\n",
    "\n",
    "Second, in the `__getitem__`, you will need to take a single data point and its label based on its index `idx`"
   ]
  },
  {
   "cell_type": "code",
   "execution_count": 2,
   "metadata": {},
   "outputs": [],
   "source": [
    "class Simple2DDataset(Dataset):\n",
    "    def __init__(self):\n",
    "        super().__init__()\n",
    "        #########################################################################\n",
    "        # TODO: read data from disk using np.load.\n",
    "        # Data is located in the folder \"data\".\n",
    "        # Save samples and labels to class members self.X and self.y respectively.\n",
    "        # samples should be an Nx2 numpy array. Labels should be Nx1.\n",
    "        #########################################################################\n",
    "        data = np.load(\"data/2d_pcl_dataset.npz\")\n",
    "        self.X = data['X']\n",
    "        self.y = data['y']\n",
    "\n",
    "     \n",
    "    def __len__(self):\n",
    "        # Returns the number of samples in the dataset.\n",
    "        return self.X.shape[0]\n",
    "    \n",
    "    def __getitem__(self, idx):\n",
    "        #########################################################################\n",
    "        # TODO: return the sample and label with index idx\n",
    "        #########################################################################\n",
    "        point = self.X[idx]\n",
    "        # print(point)\n",
    "        label = self.y[idx]\n",
    "        # print(label)\n",
    "        \n",
    "        # Convert to tensor.\n",
    "        return torch.from_numpy(point).float(), \\\n",
    "               torch.from_numpy(label[np.newaxis]).float()"
   ]
  },
  {
   "cell_type": "markdown",
   "metadata": {},
   "source": [
    "With the complete `Simple2DDataset`, we can create a PyTorch dataloader\n",
    "\n",
    "**NOTE**: if you encounter some unexpected errors in data loading, try setting `NUM_WORKERS = 0`"
   ]
  },
  {
   "cell_type": "code",
   "execution_count": 3,
   "metadata": {},
   "outputs": [],
   "source": [
    "BATCH_SIZE = 8\n",
    "NUM_WORKERS = 0\n",
    "\n",
    "# create the dataloader\n",
    "dataset = Simple2DDataset()\n",
    "train_dataloader = DataLoader(\n",
    "    dataset,\n",
    "    batch_size=BATCH_SIZE,\n",
    "    num_workers=NUM_WORKERS,\n",
    "    shuffle=True\n",
    ")"
   ]
  },
  {
   "cell_type": "markdown",
   "metadata": {},
   "source": [
    "Now, define your first network by filling in the `LinearClassifier` class below.\n",
    "\n",
    "Add a single linear layer `nn.Linear` inside the `nn.Sequential` call. The input is 2D, and the output should be a single value, corresponding to the probability of a given 2D point being part of cluster 0."
   ]
  },
  {
   "cell_type": "code",
   "execution_count": 4,
   "metadata": {},
   "outputs": [],
   "source": [
    "class LinearClassifier(nn.Module):\n",
    "    def __init__(self):\n",
    "        super().__init__()\n",
    "\n",
    "        self.codename = 'linear'\n",
    "\n",
    "        #########################################################################\n",
    "        # TODO: add a single linear layer with nn.Linear, inside the `nn.Sequential` call.\n",
    "        # Input is 2D.\n",
    "        # Output is a single value.\n",
    "        #########################################################################\n",
    "        self.model = nn.Sequential(nn.Linear(2, 1))\n",
    "        \n",
    "    def forward(self, batch):\n",
    "        # Process batch using the defined model.\n",
    "        x = self.model(batch)\n",
    "        # Final sigmoid activation to obtain a probability between 0 and 1.\n",
    "        return torch.sigmoid(x)"
   ]
  },
  {
   "cell_type": "markdown",
   "metadata": {},
   "source": [
    "Now, you are asked to implement the training loop below"
   ]
  },
  {
   "cell_type": "code",
   "execution_count": 5,
   "metadata": {},
   "outputs": [],
   "source": [
    "def train(net, optimizer, dataloader, epoch):\n",
    "    net.train()\n",
    "    loss_sum = 0\n",
    "    for batch_idx, (point, label) in enumerate(dataloader):\n",
    "        # First we need to zero the gradient, otherwise PyTorch would accumulate them\n",
    "        optimizer.zero_grad()\n",
    "\n",
    "        #########################################################################\n",
    "        #TODO: \n",
    "        # 1. forward pass of the network to obtain the predictions given the batch\n",
    "        # 2. compute the loss using F.binary_cross_entropy\n",
    "        # 3. backward pass on the loss using loss.backward(), and one step \n",
    "        # of gradient descent (optimization) using optimizer.step()\n",
    "        #########################################################################\n",
    "        loss = torch.zeros((1,))[0]\n",
    "\n",
    "        # 1. forward pass of the network to obtain the predictions given the batch\n",
    "        predictions = net.forward(point)\n",
    "\n",
    "        # 2. compute the loss using F.binary_cross_entropy\n",
    "        loss = F.binary_cross_entropy(predictions, label)\n",
    "\n",
    "        # 3. backward pass on the loss using loss.backward(), and one step\n",
    "        # of gradient descent (optimization) using optimizer.step()\n",
    "        loss.backward()\n",
    "        optimizer.step()\n",
    "\n",
    "        loss_sum += loss.item()\n",
    "    return loss_sum\n",
    "        "
   ]
  },
  {
   "cell_type": "markdown",
   "metadata": {},
   "source": [
    "You can now run below to train the linear model."
   ]
  },
  {
   "cell_type": "code",
   "execution_count": 6,
   "metadata": {
    "scrolled": true,
    "tags": []
   },
   "outputs": [
    {
     "name": "stdout",
     "output_type": "stream",
     "text": [
      "[Epoch 01] Loss: 8.3871\n",
      "[Epoch 02] Loss: 6.7545\n",
      "[Epoch 03] Loss: 5.8553\n",
      "[Epoch 04] Loss: 5.1091\n",
      "[Epoch 05] Loss: 4.6932\n",
      "[Epoch 06] Loss: 4.6314\n",
      "[Epoch 07] Loss: 4.3427\n",
      "[Epoch 08] Loss: 4.1649\n",
      "[Epoch 09] Loss: 4.2975\n",
      "[Epoch 10] Loss: 3.9600\n",
      "[Epoch 11] Loss: 4.0542\n",
      "[Epoch 12] Loss: 4.1654\n",
      "[Epoch 13] Loss: 3.8772\n",
      "[Epoch 14] Loss: 3.9537\n",
      "[Epoch 15] Loss: 3.9317\n",
      "[Epoch 16] Loss: 3.6720\n",
      "[Epoch 17] Loss: 3.6620\n",
      "[Epoch 18] Loss: 3.8549\n",
      "[Epoch 19] Loss: 3.7409\n",
      "[Epoch 20] Loss: 3.7647\n",
      "[Epoch 21] Loss: 3.6756\n",
      "[Epoch 22] Loss: 3.6333\n",
      "[Epoch 23] Loss: 3.7025\n",
      "[Epoch 24] Loss: 3.7916\n",
      "[Epoch 25] Loss: 3.5426\n",
      "[Epoch 26] Loss: 3.5704\n",
      "[Epoch 27] Loss: 3.5773\n",
      "[Epoch 28] Loss: 3.6596\n",
      "[Epoch 29] Loss: 3.9968\n",
      "[Epoch 30] Loss: 3.5720\n",
      "[Epoch 31] Loss: 3.5772\n",
      "[Epoch 32] Loss: 3.5974\n",
      "[Epoch 33] Loss: 3.4565\n",
      "[Epoch 34] Loss: 3.4486\n",
      "[Epoch 35] Loss: 3.4882\n",
      "[Epoch 36] Loss: 3.5297\n",
      "[Epoch 37] Loss: 3.5028\n",
      "[Epoch 38] Loss: 3.7377\n",
      "[Epoch 39] Loss: 3.4391\n",
      "[Epoch 40] Loss: 3.5248\n",
      "[Epoch 41] Loss: 3.5618\n",
      "[Epoch 42] Loss: 3.5828\n",
      "[Epoch 43] Loss: 3.4699\n",
      "[Epoch 44] Loss: 3.4945\n",
      "[Epoch 45] Loss: 3.6943\n",
      "[Epoch 46] Loss: 3.5478\n",
      "[Epoch 47] Loss: 3.4480\n",
      "[Epoch 48] Loss: 3.6093\n",
      "[Epoch 49] Loss: 3.6829\n",
      "[Epoch 50] Loss: 3.4843\n",
      "[Epoch 51] Loss: 3.4853\n",
      "[Epoch 52] Loss: 3.4777\n",
      "[Epoch 53] Loss: 3.4807\n",
      "[Epoch 54] Loss: 3.6730\n",
      "[Epoch 55] Loss: 3.6316\n",
      "[Epoch 56] Loss: 3.5744\n",
      "[Epoch 57] Loss: 3.4488\n",
      "[Epoch 58] Loss: 3.6201\n",
      "[Epoch 59] Loss: 3.4644\n",
      "[Epoch 60] Loss: 3.4854\n",
      "[Epoch 61] Loss: 3.4387\n",
      "[Epoch 62] Loss: 3.5422\n",
      "[Epoch 63] Loss: 3.4499\n",
      "[Epoch 64] Loss: 3.7056\n",
      "[Epoch 65] Loss: 3.4557\n",
      "[Epoch 66] Loss: 3.4605\n",
      "[Epoch 67] Loss: 3.4856\n",
      "[Epoch 68] Loss: 3.4758\n",
      "[Epoch 69] Loss: 3.4924\n",
      "[Epoch 70] Loss: 3.5542\n",
      "[Epoch 71] Loss: 3.5915\n",
      "[Epoch 72] Loss: 3.7505\n",
      "[Epoch 73] Loss: 3.5266\n",
      "[Epoch 74] Loss: 3.4556\n",
      "[Epoch 75] Loss: 3.5164\n",
      "[Epoch 76] Loss: 3.7791\n",
      "[Epoch 77] Loss: 3.5022\n",
      "[Epoch 78] Loss: 3.5746\n",
      "[Epoch 79] Loss: 3.5753\n",
      "[Epoch 80] Loss: 3.5188\n",
      "[Epoch 81] Loss: 3.5233\n",
      "[Epoch 82] Loss: 3.5303\n",
      "[Epoch 83] Loss: 3.6030\n",
      "[Epoch 84] Loss: 3.4551\n",
      "[Epoch 85] Loss: 3.5011\n",
      "[Epoch 86] Loss: 3.4740\n",
      "[Epoch 87] Loss: 3.4636\n",
      "[Epoch 88] Loss: 3.5288\n",
      "[Epoch 89] Loss: 3.5446\n",
      "[Epoch 90] Loss: 3.5269\n",
      "[Epoch 91] Loss: 3.6659\n",
      "[Epoch 92] Loss: 3.5532\n",
      "[Epoch 93] Loss: 3.8477\n",
      "[Epoch 94] Loss: 3.4781\n",
      "[Epoch 95] Loss: 3.6549\n",
      "[Epoch 96] Loss: 3.4303\n",
      "[Epoch 97] Loss: 3.5064\n",
      "[Epoch 98] Loss: 3.4503\n",
      "[Epoch 99] Loss: 3.4761\n",
      "[Epoch 100] Loss: 3.8931\n"
     ]
    }
   ],
   "source": [
    "NUM_EPOCHS = 100\n",
    "# create the network.\n",
    "net = LinearClassifier()\n",
    "\n",
    "# create the optimizer.\n",
    "optimizer = Adam(net.parameters(), lr=0.1)\n",
    "\n",
    "best_accuracy = 0\n",
    "for epoch_idx in range(NUM_EPOCHS):\n",
    "    loss = train(net, optimizer, train_dataloader, epoch_idx)\n",
    "    print('[Epoch %02d] Loss: %.4f' % (epoch_idx + 1, loss))"
   ]
  },
  {
   "cell_type": "markdown",
   "metadata": {},
   "source": [
    "Now plot your result below.\n"
   ]
  },
  {
   "cell_type": "code",
   "execution_count": 7,
   "metadata": {},
   "outputs": [
    {
     "data": {
      "image/png": "[encoded data removed]",
      "text/plain": [
       "<Figure size 640x480 with 1 Axes>"
      ]
     },
     "metadata": {},
     "output_type": "display_data"
    },
    {
     "data": {
      "text/plain": [
       "<Figure size 640x480 with 0 Axes>"
      ]
     },
     "metadata": {},
     "output_type": "display_data"
    }
   ],
   "source": [
    "p = np.linspace(-0.5, 0.5, 500)\n",
    "x_plot, y_plot = np.meshgrid(p, p)\n",
    "X_plot = np.stack((x_plot, y_plot), axis=2).reshape(-1, 2)\n",
    "X_plot = torch.from_numpy(X_plot).float()\n",
    "output = net(X_plot)\n",
    "output = output.detach().numpy()\n",
    "output = output.reshape(x_plot.shape[0], x_plot.shape[1])\n",
    "\n",
    "plt.contour(x_plot, y_plot, output, [0.5],\n",
    "                  colors=('k',),\n",
    "                  linewidths=(3,))\n",
    "plot(X0, X1)\n"
   ]
  },
  {
   "cell_type": "markdown",
   "metadata": {},
   "source": [
    "### Implement your first multi-layer perceptron (MLP) for point cloud classification\n",
    "Now you should notice that your logistic regression model cannot classify the point cloud correctly, and this is as expected :)  \n",
    "Therefore, we now ask you to implement an MLP for the same binary classification task."
   ]
  },
  {
   "cell_type": "code",
   "execution_count": 8,
   "metadata": {},
   "outputs": [],
   "source": [
    "# These are the parameters to be used\n",
    "nInput = 2\n",
    "nOutput = 1\n",
    "nHidden = 16\n",
    "act_fn = nn.ReLU()\n",
    "\n",
    "class MLP(nn.Module):\n",
    "    def __init__(self, nInput, nOutput, nHidden, act_fn):\n",
    "        super().__init__()\n",
    "\n",
    "        # Define the network layers in order.\n",
    "        # Input is 2D (nInput).\n",
    "        # Output is a single value (nOutput).\n",
    "        # Multiple linear layers each followed by a ReLU non-linearity (apart from the last).\n",
    "        #########################################################################\n",
    "        # TODO: add a two-layer MLP, inside the `nn.Sequential` call.\n",
    "        # Input is 2D.\n",
    "        # Output is a single value.\n",
    "\n",
    "        # Hint: unlike logistic regression where you need only one nn.Linear layer, \n",
    "        # here you will have two nn.Linear layers. After the first layer, we \n",
    "        # apply a ReLU activation function. The output is then passed to another \n",
    "        # linear layer. Note that you should use `nHidden` below as the hidden dimension \n",
    "        # of your linear layers.\n",
    "        #########################################################################\n",
    "        self.model = nn.Sequential(\n",
    "            nn.Linear(nInput, nHidden),\n",
    "            act_fn,\n",
    "            nn.Linear(nHidden, nOutput)\n",
    "        )\n",
    "        \n",
    "    def forward(self, batch):\n",
    "        # Process batch using the defined model.\n",
    "        x = self.model(batch)\n",
    "        # Final sigmoid activation to obtain a probability.\n",
    "        return torch.sigmoid(x)\n"
   ]
  },
  {
   "cell_type": "markdown",
   "metadata": {},
   "source": [
    "Run below again!"
   ]
  },
  {
   "cell_type": "code",
   "execution_count": 9,
   "metadata": {},
   "outputs": [
    {
     "name": "stdout",
     "output_type": "stream",
     "text": [
      "[Epoch 01] Loss: 6.8280\n",
      "[Epoch 02] Loss: 4.7741\n",
      "[Epoch 03] Loss: 4.0377\n",
      "[Epoch 04] Loss: 3.9708\n",
      "[Epoch 05] Loss: 3.7207\n",
      "[Epoch 06] Loss: 3.8636\n",
      "[Epoch 07] Loss: 3.7834\n",
      "[Epoch 08] Loss: 4.8028\n",
      "[Epoch 09] Loss: 4.0307\n",
      "[Epoch 10] Loss: 4.5810\n",
      "[Epoch 11] Loss: 4.3896\n",
      "[Epoch 12] Loss: 3.7904\n",
      "[Epoch 13] Loss: 3.7976\n",
      "[Epoch 14] Loss: 3.5092\n",
      "[Epoch 15] Loss: 3.9185\n",
      "[Epoch 16] Loss: 4.1012\n",
      "[Epoch 17] Loss: 3.8871\n",
      "[Epoch 18] Loss: 3.3687\n",
      "[Epoch 19] Loss: 3.7572\n",
      "[Epoch 20] Loss: 3.0707\n",
      "[Epoch 21] Loss: 2.9926\n",
      "[Epoch 22] Loss: 2.7110\n",
      "[Epoch 23] Loss: 2.4438\n",
      "[Epoch 24] Loss: 3.3014\n",
      "[Epoch 25] Loss: 2.6525\n",
      "[Epoch 26] Loss: 2.3898\n",
      "[Epoch 27] Loss: 1.5346\n",
      "[Epoch 28] Loss: 1.2898\n",
      "[Epoch 29] Loss: 1.2211\n",
      "[Epoch 30] Loss: 1.0640\n",
      "[Epoch 31] Loss: 0.9526\n",
      "[Epoch 32] Loss: 0.8285\n",
      "[Epoch 33] Loss: 0.8092\n",
      "[Epoch 34] Loss: 0.6869\n",
      "[Epoch 35] Loss: 0.5817\n",
      "[Epoch 36] Loss: 0.5515\n",
      "[Epoch 37] Loss: 0.5517\n",
      "[Epoch 38] Loss: 0.4790\n",
      "[Epoch 39] Loss: 0.5440\n",
      "[Epoch 40] Loss: 0.6775\n",
      "[Epoch 41] Loss: 1.7205\n",
      "[Epoch 42] Loss: 0.6492\n",
      "[Epoch 43] Loss: 0.7259\n",
      "[Epoch 44] Loss: 0.3466\n",
      "[Epoch 45] Loss: 0.3861\n",
      "[Epoch 46] Loss: 0.2416\n",
      "[Epoch 47] Loss: 0.2553\n",
      "[Epoch 48] Loss: 0.2605\n",
      "[Epoch 49] Loss: 0.2145\n",
      "[Epoch 50] Loss: 0.1956\n",
      "[Epoch 51] Loss: 0.2401\n",
      "[Epoch 52] Loss: 0.1708\n",
      "[Epoch 53] Loss: 0.2038\n",
      "[Epoch 54] Loss: 0.2468\n",
      "[Epoch 55] Loss: 0.1675\n",
      "[Epoch 56] Loss: 0.1508\n",
      "[Epoch 57] Loss: 0.1344\n",
      "[Epoch 58] Loss: 0.1304\n",
      "[Epoch 59] Loss: 0.1170\n",
      "[Epoch 60] Loss: 0.1198\n",
      "[Epoch 61] Loss: 0.1311\n",
      "[Epoch 62] Loss: 0.1389\n",
      "[Epoch 63] Loss: 0.1254\n",
      "[Epoch 64] Loss: 0.1382\n",
      "[Epoch 65] Loss: 0.1225\n",
      "[Epoch 66] Loss: 0.0987\n",
      "[Epoch 67] Loss: 0.0944\n",
      "[Epoch 68] Loss: 0.1023\n",
      "[Epoch 69] Loss: 0.1297\n",
      "[Epoch 70] Loss: 0.0909\n",
      "[Epoch 71] Loss: 0.1074\n",
      "[Epoch 72] Loss: 0.1126\n",
      "[Epoch 73] Loss: 0.0853\n",
      "[Epoch 74] Loss: 0.0767\n",
      "[Epoch 75] Loss: 0.0677\n",
      "[Epoch 76] Loss: 0.0791\n",
      "[Epoch 77] Loss: 0.0662\n",
      "[Epoch 78] Loss: 0.0669\n",
      "[Epoch 79] Loss: 0.0617\n",
      "[Epoch 80] Loss: 0.0617\n",
      "[Epoch 81] Loss: 0.0615\n",
      "[Epoch 82] Loss: 0.0668\n",
      "[Epoch 83] Loss: 0.0648\n",
      "[Epoch 84] Loss: 0.0652\n",
      "[Epoch 85] Loss: 0.0738\n",
      "[Epoch 86] Loss: 0.0559\n",
      "[Epoch 87] Loss: 0.0547\n",
      "[Epoch 88] Loss: 0.0459\n",
      "[Epoch 89] Loss: 0.0435\n",
      "[Epoch 90] Loss: 0.0442\n",
      "[Epoch 91] Loss: 0.0417\n",
      "[Epoch 92] Loss: 0.0562\n",
      "[Epoch 93] Loss: 0.0408\n",
      "[Epoch 94] Loss: 0.0493\n",
      "[Epoch 95] Loss: 0.0418\n",
      "[Epoch 96] Loss: 0.0402\n",
      "[Epoch 97] Loss: 0.0381\n",
      "[Epoch 98] Loss: 0.0411\n",
      "[Epoch 99] Loss: 0.0344\n",
      "[Epoch 100] Loss: 0.0357\n",
      "[Epoch 101] Loss: 0.0324\n",
      "[Epoch 102] Loss: 0.0332\n",
      "[Epoch 103] Loss: 0.0323\n",
      "[Epoch 104] Loss: 0.0323\n",
      "[Epoch 105] Loss: 0.0315\n",
      "[Epoch 106] Loss: 0.0299\n",
      "[Epoch 107] Loss: 0.0294\n",
      "[Epoch 108] Loss: 0.0281\n",
      "[Epoch 109] Loss: 0.0277\n",
      "[Epoch 110] Loss: 0.0292\n",
      "[Epoch 111] Loss: 0.0283\n",
      "[Epoch 112] Loss: 0.0278\n",
      "[Epoch 113] Loss: 0.0250\n",
      "[Epoch 114] Loss: 0.0244\n",
      "[Epoch 115] Loss: 0.0260\n",
      "[Epoch 116] Loss: 0.0285\n",
      "[Epoch 117] Loss: 0.0223\n",
      "[Epoch 118] Loss: 0.0297\n",
      "[Epoch 119] Loss: 0.0244\n",
      "[Epoch 120] Loss: 0.0311\n",
      "[Epoch 121] Loss: 0.0266\n",
      "[Epoch 122] Loss: 0.0229\n",
      "[Epoch 123] Loss: 0.0213\n",
      "[Epoch 124] Loss: 0.0204\n",
      "[Epoch 125] Loss: 0.0215\n",
      "[Epoch 126] Loss: 0.0217\n",
      "[Epoch 127] Loss: 0.0192\n",
      "[Epoch 128] Loss: 0.0206\n",
      "[Epoch 129] Loss: 0.0191\n",
      "[Epoch 130] Loss: 0.0205\n",
      "[Epoch 131] Loss: 0.0194\n",
      "[Epoch 132] Loss: 0.0206\n",
      "[Epoch 133] Loss: 0.0186\n",
      "[Epoch 134] Loss: 0.0184\n",
      "[Epoch 135] Loss: 0.0179\n",
      "[Epoch 136] Loss: 0.0185\n",
      "[Epoch 137] Loss: 0.0180\n",
      "[Epoch 138] Loss: 0.0161\n",
      "[Epoch 139] Loss: 0.0154\n",
      "[Epoch 140] Loss: 0.0164\n",
      "[Epoch 141] Loss: 0.0158\n",
      "[Epoch 142] Loss: 0.0154\n",
      "[Epoch 143] Loss: 0.0147\n",
      "[Epoch 144] Loss: 0.0153\n",
      "[Epoch 145] Loss: 0.0143\n",
      "[Epoch 146] Loss: 0.0137\n",
      "[Epoch 147] Loss: 0.0140\n",
      "[Epoch 148] Loss: 0.0148\n",
      "[Epoch 149] Loss: 0.0141\n",
      "[Epoch 150] Loss: 0.0137\n",
      "[Epoch 151] Loss: 0.0123\n",
      "[Epoch 152] Loss: 0.0129\n",
      "[Epoch 153] Loss: 0.0125\n",
      "[Epoch 154] Loss: 0.0121\n",
      "[Epoch 155] Loss: 0.0125\n",
      "[Epoch 156] Loss: 0.0131\n",
      "[Epoch 157] Loss: 0.0125\n",
      "[Epoch 158] Loss: 0.0126\n",
      "[Epoch 159] Loss: 0.0115\n",
      "[Epoch 160] Loss: 0.0124\n",
      "[Epoch 161] Loss: 0.0115\n",
      "[Epoch 162] Loss: 0.0111\n",
      "[Epoch 163] Loss: 0.0114\n",
      "[Epoch 164] Loss: 0.0105\n",
      "[Epoch 165] Loss: 0.0117\n",
      "[Epoch 166] Loss: 0.0099\n",
      "[Epoch 167] Loss: 0.0100\n",
      "[Epoch 168] Loss: 0.0102\n",
      "[Epoch 169] Loss: 0.0099\n",
      "[Epoch 170] Loss: 0.0096\n",
      "[Epoch 171] Loss: 0.0094\n",
      "[Epoch 172] Loss: 0.0093\n",
      "[Epoch 173] Loss: 0.0090\n",
      "[Epoch 174] Loss: 0.0090\n",
      "[Epoch 175] Loss: 0.0103\n",
      "[Epoch 176] Loss: 0.0090\n",
      "[Epoch 177] Loss: 0.0090\n",
      "[Epoch 178] Loss: 0.0117\n",
      "[Epoch 179] Loss: 0.0100\n",
      "[Epoch 180] Loss: 0.0082\n",
      "[Epoch 181] Loss: 0.0084\n",
      "[Epoch 182] Loss: 0.0082\n",
      "[Epoch 183] Loss: 0.0097\n",
      "[Epoch 184] Loss: 0.0088\n",
      "[Epoch 185] Loss: 0.0082\n",
      "[Epoch 186] Loss: 0.0080\n",
      "[Epoch 187] Loss: 0.0077\n",
      "[Epoch 188] Loss: 0.0075\n",
      "[Epoch 189] Loss: 0.0073\n",
      "[Epoch 190] Loss: 0.0082\n",
      "[Epoch 191] Loss: 0.0082\n",
      "[Epoch 192] Loss: 0.0107\n",
      "[Epoch 193] Loss: 0.0070\n",
      "[Epoch 194] Loss: 0.0089\n",
      "[Epoch 195] Loss: 0.0072\n",
      "[Epoch 196] Loss: 0.0071\n",
      "[Epoch 197] Loss: 0.0068\n",
      "[Epoch 198] Loss: 0.0068\n",
      "[Epoch 199] Loss: 0.0063\n",
      "[Epoch 200] Loss: 0.0067\n"
     ]
    }
   ],
   "source": [
    "NUM_EPOCHS = 200\n",
    "\n",
    "# create the network.\n",
    "net = MLP(nInput, nOutput, nHidden, act_fn)\n",
    "\n",
    "# create the optimizer.\n",
    "optimizer = Adam(net.parameters(), lr=0.1)\n",
    "\n",
    "best_accuracy = 0\n",
    "for epoch_idx in range(NUM_EPOCHS):\n",
    "    loss = train(net, optimizer, train_dataloader, epoch_idx)\n",
    "    print('[Epoch %02d] Loss: %.4f' % (epoch_idx + 1, loss))"
   ]
  },
  {
   "cell_type": "markdown",
   "metadata": {},
   "source": [
    "Again plot your result. You should see that the decision boundary can clearly separate the point clouds.\n"
   ]
  },
  {
   "cell_type": "code",
   "execution_count": 10,
   "metadata": {},
   "outputs": [
    {
     "data": {
      "image/png": "[encoded data removed]",
      "text/plain": [
       "<Figure size 640x480 with 1 Axes>"
      ]
     },
     "metadata": {},
     "output_type": "display_data"
    },
    {
     "data": {
      "text/plain": [
       "<Figure size 640x480 with 0 Axes>"
      ]
     },
     "metadata": {},
     "output_type": "display_data"
    }
   ],
   "source": [
    "p = np.linspace(-0.5, 0.5, 500)\n",
    "x_plot, y_plot = np.meshgrid(p, p)\n",
    "X_plot = np.stack((x_plot, y_plot), axis=2).reshape(-1, 2)\n",
    "X_plot = torch.from_numpy(X_plot).float()\n",
    "output = net(X_plot)\n",
    "output = output.detach().numpy()\n",
    "output = output.reshape(x_plot.shape[0], x_plot.shape[1])\n",
    "\n",
    "plt.contour(x_plot, y_plot, output, [0.5],\n",
    "                  colors=('k',),\n",
    "                  linewidths=(3,))\n",
    "plot(X0, X1)"
   ]
  },
  {
   "cell_type": "markdown",
   "metadata": {},
   "source": [
    "When you are done, move forward to `image_classification.ipynb`."
   ]
  },
  {
   "cell_type": "markdown",
   "metadata": {},
   "source": []
  }
 ],
 "metadata": {
  "kernelspec": {
   "display_name": "Python 3.9.12 ('base')",
   "language": "python",
   "name": "python3"
  },
  "language_info": {
   "codemirror_mode": {
    "name": "ipython",
    "version": 3
   },
   "file_extension": ".py",
   "mimetype": "text/x-python",
   "name": "python",
   "nbconvert_exporter": "python",
   "pygments_lexer": "ipython3",
   "version": "3.11.3"
  },
  "vscode": {
   "interpreter": {
    "hash": "d268b61a0efacafa8645774cb6d0204c9f01d7563ef03f7672146d044e8f345c"
   }
  }
 },
 "nbformat": 4,
 "nbformat_minor": 4
}
